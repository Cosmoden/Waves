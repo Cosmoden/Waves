{
 "cells": [
  {
   "cell_type": "code",
   "id": "initial_id",
   "metadata": {
    "collapsed": true,
    "ExecuteTime": {
     "end_time": "2025-09-13T17:49:19.951611Z",
     "start_time": "2025-09-13T17:49:19.845933Z"
    }
   },
   "source": [
    "# imports\n",
    "import numpy as np\n",
    "import pandas as pd\n",
    "import matplotlib.pyplot as plt\n",
    "import seaborn as sns\n",
    "from sklearn.model_selection import train_test_split\n",
    "from sklearn.preprocessing import PolynomialFeatures\n",
    "from sklearn.linear_model import LinearRegression\n",
    "from sklearn.metrics import mean_squared_error"
   ],
   "outputs": [],
   "execution_count": 1
  },
  {
   "metadata": {
    "ExecuteTime": {
     "end_time": "2025-09-13T17:51:25.568109Z",
     "start_time": "2025-09-13T17:51:25.347038Z"
    }
   },
   "cell_type": "code",
   "source": [
    "df = pd.read_csv('../data/processed_data.csv')\n",
    "features = list(df.columns)[:-2]\n",
    "labels = list(df.columns)[-2:]\n",
    "\n",
    "X = df[features].to_numpy()\n",
    "# Note that we have 2 labels\n",
    "Y = df[labels].to_numpy()"
   ],
   "id": "28d05b8a19197a0c",
   "outputs": [],
   "execution_count": 2
  },
  {
   "metadata": {
    "ExecuteTime": {
     "end_time": "2025-09-13T17:51:41.695460Z",
     "start_time": "2025-09-13T17:51:41.596927Z"
    }
   },
   "cell_type": "code",
   "source": [
    "# The commonly used split of 75% for training, 10% for validation, and 15%\n",
    "# for the test sets has been followed when splitting the dataset.\n",
    "# V Roshan Joseph. Optimal ratio for data splitting. Statistical Analysis and Data Mining: The\n",
    "# ASA Data Science Journal, 15(4):531–538, 2022.\n",
    "\n",
    "X_train, X_test, Y_train, Y_test = train_test_split(X, Y, test_size=0.25, random_state=42)\n",
    "X_val, X_test, Y_val, Y_test = train_test_split(X_test, Y_test, test_size=0.6, random_state=42)\n",
    "\n",
    "# y1: WaveHeight\n",
    "y1_train = Y_train[:,0]\n",
    "y1_val = Y_val[:,0]\n",
    "y1_test = Y_test[:,0]\n",
    "\n",
    "# y2: WavePeriod\n",
    "y2_train = Y_train[:,1]\n",
    "y2_val = Y_val[:,1]\n",
    "y2_test = Y_test[:,1]"
   ],
   "id": "702f70a7f7c37449",
   "outputs": [],
   "execution_count": 3
  },
  {
   "metadata": {
    "ExecuteTime": {
     "end_time": "2025-09-13T17:51:51.169925Z",
     "start_time": "2025-09-13T17:51:51.166486Z"
    }
   },
   "cell_type": "code",
   "source": [
    "def finding_polynomial(X_train, X_val, y_train, y_val, highest_degree=3):\n",
    "    # define a list of values for polynomial degrees\n",
    "    degrees = [i for i in range(1, highest_degree + 1)]\n",
    "    # declare a variable to store the resulting validation errors for each polynomial degree\n",
    "    val_errors = []\n",
    "    for i in range(len(degrees)):    # use for-loop to fit polynomial regression models with different degrees\n",
    "\n",
    "        poly = PolynomialFeatures(degree=degrees[i])\n",
    "        X_train_poly = poly.fit_transform(X_train)\n",
    "        X_val_poly = poly.fit_transform(X_val)\n",
    "\n",
    "        regression = LinearRegression()\n",
    "        regression.fit(X_train_poly, y_train)\n",
    "\n",
    "        y_pred = regression.predict(X_val_poly)\n",
    "\n",
    "        val_error = mean_squared_error(y_val, y_pred)\n",
    "\n",
    "        val_errors.append(val_error)\n",
    "\n",
    "    return val_errors"
   ],
   "id": "29a535348c5b416c",
   "outputs": [],
   "execution_count": 4
  },
  {
   "metadata": {
    "ExecuteTime": {
     "end_time": "2025-09-13T17:52:05.601880Z",
     "start_time": "2025-09-13T17:52:00.061777Z"
    }
   },
   "cell_type": "code",
   "source": [
    "val_errors_1 = finding_polynomial(X_train, X_val, y1_train, y1_val)\n",
    "val_errors_2 = finding_polynomial(X_train, X_val, y2_train, y2_val)\n",
    "print(val_errors_1)\n",
    "print(val_errors_2)"
   ],
   "id": "82d901947624735a",
   "outputs": [
    {
     "name": "stdout",
     "output_type": "stream",
     "text": [
      "[0.7268038850703871, 0.6709662956324683, 0.6843937345014631]\n",
      "[2.0285962997894296, 1.8686333243633837, 1.8951451648206603]\n"
     ]
    }
   ],
   "execution_count": 5
  },
  {
   "metadata": {},
   "cell_type": "code",
   "outputs": [],
   "execution_count": null,
   "source": "",
   "id": "87281461e16fef9a"
  }
 ],
 "metadata": {
  "kernelspec": {
   "display_name": "Python 3",
   "language": "python",
   "name": "python3"
  },
  "language_info": {
   "codemirror_mode": {
    "name": "ipython",
    "version": 2
   },
   "file_extension": ".py",
   "mimetype": "text/x-python",
   "name": "python",
   "nbconvert_exporter": "python",
   "pygments_lexer": "ipython2",
   "version": "2.7.6"
  }
 },
 "nbformat": 4,
 "nbformat_minor": 5
}
