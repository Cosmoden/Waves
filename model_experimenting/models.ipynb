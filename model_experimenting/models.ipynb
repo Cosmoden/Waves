{
 "cells": [
  {
   "cell_type": "code",
   "id": "initial_id",
   "metadata": {
    "collapsed": true,
    "ExecuteTime": {
     "end_time": "2025-09-14T12:07:38.028585Z",
     "start_time": "2025-09-14T12:07:38.015459Z"
    }
   },
   "source": [
    "# imports\n",
    "import numpy as np\n",
    "import pandas as pd\n",
    "import matplotlib.pyplot as plt\n",
    "import seaborn as sns\n",
    "import torch\n",
    "from sklearn.model_selection import train_test_split\n",
    "from sklearn.preprocessing import PolynomialFeatures\n",
    "from sklearn.linear_model import LinearRegression\n",
    "from sklearn.metrics import mean_squared_error\n",
    "from torch import nn, optim\n",
    "from torch.utils.data import DataLoader, TensorDataset, random_split\n",
    "from torch.optim import Optimizer\n",
    "from IPython.display import clear_output\n",
    "from tqdm import tqdm"
   ],
   "outputs": [],
   "execution_count": 18
  },
  {
   "metadata": {
    "ExecuteTime": {
     "end_time": "2025-09-14T12:07:40.105975Z",
     "start_time": "2025-09-14T12:07:39.762749Z"
    }
   },
   "cell_type": "code",
   "source": [
    "df = pd.read_csv('../data/processed_data.csv')\n",
    "features = list(df.columns)[:-2]\n",
    "labels = list(df.columns)[-2:]\n",
    "\n",
    "X = df[features].to_numpy()\n",
    "# Note that we have 2 labels\n",
    "Y = df[labels].to_numpy()"
   ],
   "id": "28d05b8a19197a0c",
   "outputs": [],
   "execution_count": 19
  },
  {
   "metadata": {
    "ExecuteTime": {
     "end_time": "2025-09-13T17:51:41.695460Z",
     "start_time": "2025-09-13T17:51:41.596927Z"
    }
   },
   "cell_type": "code",
   "source": [
    "# The commonly used split of 75% for training, 10% for validation, and 15%\n",
    "# for the test sets has been followed when splitting the dataset.\n",
    "# V Roshan Joseph. Optimal ratio for data splitting. Statistical Analysis and Data Mining: The\n",
    "# ASA Data Science Journal, 15(4):531–538, 2022.\n",
    "\n",
    "X_train, X_test, Y_train, Y_test = train_test_split(X, Y, test_size=0.25, random_state=42)\n",
    "X_val, X_test, Y_val, Y_test = train_test_split(X_test, Y_test, test_size=0.6, random_state=42)\n",
    "\n",
    "# y1: WaveHeight\n",
    "y1_train = Y_train[:,0]\n",
    "y1_val = Y_val[:,0]\n",
    "y1_test = Y_test[:,0]\n",
    "\n",
    "# y2: WavePeriod\n",
    "y2_train = Y_train[:,1]\n",
    "y2_val = Y_val[:,1]\n",
    "y2_test = Y_test[:,1]"
   ],
   "id": "702f70a7f7c37449",
   "outputs": [],
   "execution_count": 3
  },
  {
   "metadata": {
    "ExecuteTime": {
     "end_time": "2025-09-13T17:51:51.169925Z",
     "start_time": "2025-09-13T17:51:51.166486Z"
    }
   },
   "cell_type": "code",
   "source": [
    "def finding_polynomial(X_train, X_val, y_train, y_val, highest_degree=3):\n",
    "    # define a list of values for polynomial degrees\n",
    "    degrees = [i for i in range(1, highest_degree + 1)]\n",
    "    # declare a variable to store the resulting validation errors for each polynomial degree\n",
    "    val_errors = []\n",
    "    for i in range(len(degrees)):    # use for-loop to fit polynomial regression models with different degrees\n",
    "\n",
    "        poly = PolynomialFeatures(degree=degrees[i])\n",
    "        X_train_poly = poly.fit_transform(X_train)\n",
    "        X_val_poly = poly.fit_transform(X_val)\n",
    "\n",
    "        regression = LinearRegression()\n",
    "        regression.fit(X_train_poly, y_train)\n",
    "\n",
    "        y_pred = regression.predict(X_val_poly)\n",
    "\n",
    "        val_error = mean_squared_error(y_val, y_pred)\n",
    "\n",
    "        val_errors.append(val_error)\n",
    "\n",
    "    return val_errors"
   ],
   "id": "29a535348c5b416c",
   "outputs": [],
   "execution_count": 4
  },
  {
   "metadata": {
    "ExecuteTime": {
     "end_time": "2025-09-13T17:52:05.601880Z",
     "start_time": "2025-09-13T17:52:00.061777Z"
    }
   },
   "cell_type": "code",
   "source": [
    "val_errors_1 = finding_polynomial(X_train, X_val, y1_train, y1_val)\n",
    "val_errors_2 = finding_polynomial(X_train, X_val, y2_train, y2_val)\n",
    "print(val_errors_1)\n",
    "print(val_errors_2)"
   ],
   "id": "82d901947624735a",
   "outputs": [
    {
     "name": "stdout",
     "output_type": "stream",
     "text": [
      "[0.7268038850703871, 0.6709662956324683, 0.6843937345014631]\n",
      "[2.0285962997894296, 1.8686333243633837, 1.8951451648206603]\n"
     ]
    }
   ],
   "execution_count": 5
  },
  {
   "metadata": {
    "ExecuteTime": {
     "end_time": "2025-09-14T10:08:43.987489Z",
     "start_time": "2025-09-14T10:08:43.983358Z"
    }
   },
   "cell_type": "code",
   "source": [
    "class Network1(nn.Module):\n",
    "    def __init__(self):\n",
    "        super().__init__()\n",
    "\n",
    "        self.linear1 = nn.Linear(7, 64)\n",
    "        self.batch_norm1 = nn.BatchNorm1d(64)\n",
    "        self.dropout1 = nn.Dropout(0.2)\n",
    "\n",
    "        self.linear2 = nn.Linear(64, 128)\n",
    "        self.batch_norm2 = nn.BatchNorm1d(128)\n",
    "        self.dropout2 = nn.Dropout(0.2)\n",
    "\n",
    "        self.linear3 = nn.Linear(128, 64)\n",
    "        self.batch_norm3 = nn.BatchNorm1d(64)\n",
    "        self.dropout3 = nn.Dropout(0.2)\n",
    "\n",
    "        self.linear4 = nn.Linear(64, 2)\n",
    "\n",
    "        self.activation = nn.ReLU()\n",
    "\n",
    "    def forward(self, x):\n",
    "        output = self.linear1(x)\n",
    "        output = self.batch_norm1(output)\n",
    "        output = self.activation(output)\n",
    "        output = self.dropout1(output)\n",
    "\n",
    "        output = self.linear2(output)\n",
    "        output = self.batch_norm2(output)\n",
    "        output = self.activation(output)\n",
    "        output = self.dropout2(output)\n",
    "\n",
    "        output = self.linear3(output)\n",
    "        output = self.batch_norm3(output)\n",
    "        output = self.activation(output)\n",
    "        output = self.dropout3(output)\n",
    "\n",
    "        output = self.linear4(output)\n",
    "\n",
    "        return output"
   ],
   "id": "87281461e16fef9a",
   "outputs": [],
   "execution_count": 4
  },
  {
   "metadata": {
    "ExecuteTime": {
     "end_time": "2025-09-14T10:21:53.228063Z",
     "start_time": "2025-09-14T10:21:53.223678Z"
    }
   },
   "cell_type": "code",
   "source": [
    "import matplotlib.pyplot as plt\n",
    "import seaborn as sns\n",
    "\n",
    "\n",
    "sns.set_theme(style='darkgrid')\n",
    "\n",
    "\n",
    "def plot_stats(\n",
    "    train_loss: list[float],\n",
    "    valid_loss: list[float],\n",
    "    title: str\n",
    "):\n",
    "    plt.figure(figsize=(16, 8))\n",
    "\n",
    "    plt.title(title + ' loss')\n",
    "\n",
    "    plt.plot(train_loss, label='Train loss')\n",
    "    plt.plot(valid_loss, label='Validation loss')\n",
    "\n",
    "    plt.legend()\n",
    "\n",
    "    plt.ylabel(\"Loss\")\n",
    "    plt.xlabel(\"Epoch\")\n",
    "\n",
    "    plt.show()"
   ],
   "id": "a546620115a7f000",
   "outputs": [],
   "execution_count": 15
  },
  {
   "metadata": {
    "ExecuteTime": {
     "end_time": "2025-09-14T10:08:47.507603Z",
     "start_time": "2025-09-14T10:08:47.504318Z"
    }
   },
   "cell_type": "code",
   "source": [
    "def train(model: nn.Module, data_loader: DataLoader, opt: Optimizer, loss_fn):\n",
    "    model.train()\n",
    "\n",
    "    total_loss = 0\n",
    "\n",
    "    for i, (x, y) in enumerate(tqdm(data_loader)):\n",
    "        opt.zero_grad()\n",
    "        output = model(x)\n",
    "        loss = loss_fn(output, y)\n",
    "        loss.backward()\n",
    "        total_loss += loss.item()\n",
    "        opt.step()\n",
    "\n",
    "    return total_loss / len(data_loader)\n"
   ],
   "id": "26abd8e648571685",
   "outputs": [],
   "execution_count": 6
  },
  {
   "metadata": {
    "ExecuteTime": {
     "end_time": "2025-09-14T10:08:48.192594Z",
     "start_time": "2025-09-14T10:08:48.187796Z"
    }
   },
   "cell_type": "code",
   "source": [
    "@torch.inference_mode()\n",
    "def evaluate(model: nn.Module, data_loader: DataLoader, loss_fn):\n",
    "    model.eval()\n",
    "\n",
    "    total_loss = 0\n",
    "\n",
    "    for i, (x, y) in enumerate(tqdm(data_loader)):\n",
    "        output = model(x)\n",
    "\n",
    "        loss = loss_fn(output, y)\n",
    "\n",
    "        total_loss += loss.item()\n",
    "\n",
    "    return total_loss / len(data_loader)"
   ],
   "id": "335198656eeb7df5",
   "outputs": [],
   "execution_count": 7
  },
  {
   "metadata": {
    "ExecuteTime": {
     "end_time": "2025-09-14T10:08:49.157583Z",
     "start_time": "2025-09-14T10:08:49.154590Z"
    }
   },
   "cell_type": "code",
   "source": [
    "def fit(model, train_loader, valid_loader, opt, loss_fn, num_epochs, title):\n",
    "    train_loss_history, valid_loss_history = [], []\n",
    "\n",
    "    for epoch in range(num_epochs):\n",
    "        train_loss = train(model, train_loader, opt, loss_fn)\n",
    "        valid_loss = evaluate(model, valid_loader, loss_fn)\n",
    "\n",
    "        train_loss_history.append(train_loss)\n",
    "        valid_loss_history.append(valid_loss)\n",
    "\n",
    "        clear_output()\n",
    "\n",
    "        plot_stats(train_loss_history, valid_loss_history, title)"
   ],
   "id": "349c585aac542572",
   "outputs": [],
   "execution_count": 8
  },
  {
   "metadata": {
    "ExecuteTime": {
     "end_time": "2025-09-14T10:09:58.238259Z",
     "start_time": "2025-09-14T10:09:58.235302Z"
    }
   },
   "cell_type": "code",
   "source": "device = torch.device(\"cuda\" if torch.cuda.is_available() else \"cpu\")",
   "id": "aafcf7bb1a6d399",
   "outputs": [],
   "execution_count": 12
  },
  {
   "metadata": {
    "ExecuteTime": {
     "end_time": "2025-09-14T10:10:04.893669Z",
     "start_time": "2025-09-14T10:10:04.888730Z"
    }
   },
   "cell_type": "code",
   "source": "device",
   "id": "66cc5d0022f5feb8",
   "outputs": [
    {
     "data": {
      "text/plain": [
       "device(type='cuda')"
      ]
     },
     "execution_count": 13,
     "metadata": {},
     "output_type": "execute_result"
    }
   ],
   "execution_count": 13
  },
  {
   "metadata": {},
   "cell_type": "code",
   "source": [
    "dataset = TensorDataset(\n",
    "    torch.from_numpy(X).float().to(device),\n",
    "    torch.from_numpy(Y).float().to(device)\n",
    ")\n",
    "\n",
    "train_dataset, valid_dataset = random_split(\n",
    "    dataset,\n",
    "    (int(len(dataset) * 0.8), len(dataset) -  int(len(dataset) * 0.8)),\n",
    "    generator=torch.Generator()\n",
    ")\n",
    "\n",
    "net = Network1().to(device)\n",
    "\n",
    "optimizer = optim.Adam(net.parameters(), lr=5e-5)\n",
    "loss_function = nn.MSELoss()\n",
    "train_loader = DataLoader(train_dataset, batch_size=512, shuffle=True)\n",
    "valid_loader = DataLoader(valid_dataset, batch_size=512, shuffle=False)\n",
    "fit(net, train_loader, valid_loader, optimizer, loss_function, 70, 'Neural Network 1')"
   ],
   "id": "8511c0b838fae408",
   "execution_count": 21,
   "outputs": [
    {
     "data": {
      "text/plain": [
       "<Figure size 1600x800 with 1 Axes>"
      ],
      "image/png": "[encoded data removed]"
     },
     "metadata": {},
     "output_type": "display_data"
    }
   ]
  },
  {
   "metadata": {},
   "cell_type": "code",
   "outputs": [],
   "execution_count": null,
   "source": "",
   "id": "f6c31272aec5eb3d"
  }
 ],
 "metadata": {
  "kernelspec": {
   "display_name": "Python 3",
   "language": "python",
   "name": "python3"
  },
  "language_info": {
   "codemirror_mode": {
    "name": "ipython",
    "version": 2
   },
   "file_extension": ".py",
   "mimetype": "text/x-python",
   "name": "python",
   "nbconvert_exporter": "python",
   "pygments_lexer": "ipython2",
   "version": "2.7.6"
  }
 },
 "nbformat": 4,
 "nbformat_minor": 5
}
