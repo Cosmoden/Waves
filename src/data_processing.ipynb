{
 "cells": [
  {
   "cell_type": "code",
   "id": "initial_id",
   "metadata": {
    "collapsed": true,
    "ExecuteTime": {
     "end_time": "2025-09-10T12:00:37.136579Z",
     "start_time": "2025-09-10T12:00:34.295130Z"
    }
   },
   "source": [
    "# imports\n",
    "from csv import DictReader, DictWriter\n",
    "from tqdm import tqdm\n",
    "\n",
    "with open('../data/raw_data.csv', 'r') as f1, open('../data/clean_data.csv', 'w') as f2:\n",
    "    reader = DictReader(f1, fieldnames=['station_id', 'longitude', 'latitude', 'time', 'AtmospherePressure', 'WindDirection', 'WindSpeed', 'Gust', 'WaveHeight', 'WavePeriod'])\n",
    "    writer = DictWriter(f2, fieldnames=['AtmospherePressure', 'WindDirection', 'WindSpeed', 'Gust', 'WaveHeight', 'WavePeriod'], lineterminator='\\n')\n",
    "    next(reader)\n",
    "    next(reader)\n",
    "    writer.writeheader()\n",
    "    for line in tqdm(reader):\n",
    "        if line['AtmospherePressure'] == 'NaN' or line['WindDirection'] == 'NaN' or line['WindSpeed'] == 'NaN' or line['Gust'] == 'NaN' or line['WaveHeight'] == 'NaN' or line['WavePeriod'] == 'NaN':\n",
    "            continue\n",
    "        writer.writerow({'AtmospherePressure': line['AtmospherePressure'], 'WindDirection': line['WindDirection'], 'WindSpeed': line['WindSpeed'], 'Gust': line['Gust'], 'WaveHeight': line['WaveHeight'], 'WavePeriod': line['WavePeriod']})\n"
   ],
   "outputs": [
    {
     "name": "stderr",
     "output_type": "stream",
     "text": [
      "613392it [00:02, 216867.19it/s]\n"
     ]
    }
   ],
   "execution_count": 3
  },
  {
   "metadata": {
    "ExecuteTime": {
     "end_time": "2025-09-10T12:01:59.305487Z",
     "start_time": "2025-09-10T12:01:59.269582Z"
    }
   },
   "cell_type": "code",
   "source": "f = open('clean_data.csv', 'r')",
   "id": "bfc06d0f918e3525",
   "outputs": [
    {
     "ename": "FileNotFoundError",
     "evalue": "[Errno 2] No such file or directory: 'clean_data.csv'",
     "output_type": "error",
     "traceback": [
      "\u001B[31m---------------------------------------------------------------------------\u001B[39m",
      "\u001B[31mFileNotFoundError\u001B[39m                         Traceback (most recent call last)",
      "\u001B[36mCell\u001B[39m\u001B[36m \u001B[39m\u001B[32mIn[4]\u001B[39m\u001B[32m, line 1\u001B[39m\n\u001B[32m----> \u001B[39m\u001B[32m1\u001B[39m f = \u001B[38;5;28;43mopen\u001B[39;49m\u001B[43m(\u001B[49m\u001B[33;43m'\u001B[39;49m\u001B[33;43mclean_data.csv\u001B[39;49m\u001B[33;43m'\u001B[39;49m\u001B[43m,\u001B[49m\u001B[43m \u001B[49m\u001B[33;43m'\u001B[39;49m\u001B[33;43mr\u001B[39;49m\u001B[33;43m'\u001B[39;49m\u001B[43m)\u001B[49m\n",
      "\u001B[36mFile \u001B[39m\u001B[32m~\\PycharmProjects\\Wave prediction\\.venv\\Lib\\site-packages\\IPython\\core\\interactiveshell.py:343\u001B[39m, in \u001B[36m_modified_open\u001B[39m\u001B[34m(file, *args, **kwargs)\u001B[39m\n\u001B[32m    336\u001B[39m \u001B[38;5;28;01mif\u001B[39;00m file \u001B[38;5;129;01min\u001B[39;00m {\u001B[32m0\u001B[39m, \u001B[32m1\u001B[39m, \u001B[32m2\u001B[39m}:\n\u001B[32m    337\u001B[39m     \u001B[38;5;28;01mraise\u001B[39;00m \u001B[38;5;167;01mValueError\u001B[39;00m(\n\u001B[32m    338\u001B[39m         \u001B[33mf\u001B[39m\u001B[33m\"\u001B[39m\u001B[33mIPython won\u001B[39m\u001B[33m'\u001B[39m\u001B[33mt let you open fd=\u001B[39m\u001B[38;5;132;01m{\u001B[39;00mfile\u001B[38;5;132;01m}\u001B[39;00m\u001B[33m by default \u001B[39m\u001B[33m\"\u001B[39m\n\u001B[32m    339\u001B[39m         \u001B[33m\"\u001B[39m\u001B[33mas it is likely to crash IPython. If you know what you are doing, \u001B[39m\u001B[33m\"\u001B[39m\n\u001B[32m    340\u001B[39m         \u001B[33m\"\u001B[39m\u001B[33myou can use builtins\u001B[39m\u001B[33m'\u001B[39m\u001B[33m open.\u001B[39m\u001B[33m\"\u001B[39m\n\u001B[32m    341\u001B[39m     )\n\u001B[32m--> \u001B[39m\u001B[32m343\u001B[39m \u001B[38;5;28;01mreturn\u001B[39;00m \u001B[43mio_open\u001B[49m\u001B[43m(\u001B[49m\u001B[43mfile\u001B[49m\u001B[43m,\u001B[49m\u001B[43m \u001B[49m\u001B[43m*\u001B[49m\u001B[43margs\u001B[49m\u001B[43m,\u001B[49m\u001B[43m \u001B[49m\u001B[43m*\u001B[49m\u001B[43m*\u001B[49m\u001B[43mkwargs\u001B[49m\u001B[43m)\u001B[49m\n",
      "\u001B[31mFileNotFoundError\u001B[39m: [Errno 2] No such file or directory: 'clean_data.csv'"
     ]
    }
   ],
   "execution_count": 4
  },
  {
   "metadata": {
    "ExecuteTime": {
     "end_time": "2025-09-10T12:06:51.606760Z",
     "start_time": "2025-09-10T12:06:51.329021Z"
    }
   },
   "cell_type": "code",
   "source": [
    "import pandas as pd\n",
    "\n",
    "df = pd.read_csv('../data/clean_data.csv')\n",
    "df.sample"
   ],
   "id": "59a4f1e9a5f5a79f",
   "outputs": [
    {
     "data": {
      "text/plain": [
       "<bound method NDFrame.sample of         AtmospherePressure  WindDirection  WindSpeed    Gust  WaveHeight  \\\n",
       "0                  998.800          120.0      6.030  11.700       1.400   \n",
       "1                  998.600          130.0      5.060  11.700       1.300   \n",
       "2                  998.400          140.0      7.000   9.700       1.400   \n",
       "3                  998.200          160.0      6.030  13.600       1.400   \n",
       "4                  998.000          190.0      6.030   9.700       1.400   \n",
       "...                    ...            ...        ...     ...         ...   \n",
       "443028            1026.100          360.0     18.000  27.000       3.300   \n",
       "443029            1015.405          330.0     20.066  25.758       1.875   \n",
       "443030            1026.100          340.0     18.000  29.000       3.400   \n",
       "443031            1015.442          339.0     21.631  28.462       1.719   \n",
       "443032            1026.500          360.0     21.000  27.000       3.100   \n",
       "\n",
       "        WavePeriod  \n",
       "0             7.00  \n",
       "1             7.00  \n",
       "2             7.00  \n",
       "3             7.00  \n",
       "4             7.00  \n",
       "...            ...  \n",
       "443028        7.00  \n",
       "443029        4.57  \n",
       "443030        7.00  \n",
       "443031        4.57  \n",
       "443032        7.00  \n",
       "\n",
       "[443033 rows x 6 columns]>"
      ]
     },
     "execution_count": 7,
     "metadata": {},
     "output_type": "execute_result"
    }
   ],
   "execution_count": 7
  },
  {
   "metadata": {},
   "cell_type": "code",
   "outputs": [],
   "execution_count": null,
   "source": "",
   "id": "8f257e0c10904a52"
  }
 ],
 "metadata": {
  "kernelspec": {
   "display_name": "Python 3",
   "language": "python",
   "name": "python3"
  },
  "language_info": {
   "codemirror_mode": {
    "name": "ipython",
    "version": 2
   },
   "file_extension": ".py",
   "mimetype": "text/x-python",
   "name": "python",
   "nbconvert_exporter": "python",
   "pygments_lexer": "ipython2",
   "version": "2.7.6"
  }
 },
 "nbformat": 4,
 "nbformat_minor": 5
}
