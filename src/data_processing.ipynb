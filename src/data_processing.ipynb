{
 "cells": [
  {
   "metadata": {
    "ExecuteTime": {
     "end_time": "2025-09-13T17:01:58.161911Z",
     "start_time": "2025-09-13T17:01:57.920166Z"
    }
   },
   "cell_type": "code",
   "source": [
    "# imports\n",
    "from csv import DictReader, DictWriter\n",
    "from tqdm import tqdm\n",
    "import pandas as pd"
   ],
   "id": "d0052743fe1215e8",
   "outputs": [],
   "execution_count": 2
  },
  {
   "metadata": {
    "ExecuteTime": {
     "end_time": "2025-09-13T17:02:02.404254Z",
     "start_time": "2025-09-13T17:01:59.059766Z"
    }
   },
   "cell_type": "code",
   "source": [
    "original_column_names = ['station_id', 'longitude', 'latitude', 'time', 'AtmospherePressure', 'WindDirection', 'WindSpeed', 'Gust', 'WaveHeight', 'WavePeriod', 'MeanWaveDirection', 'Hmax', 'AirTemperature', 'DewPoint', 'SeaTemperature', 'RelativeHumidity']\n",
    "\n",
    "new_column_names = ['AtmospherePressure', 'WindDirection', 'WindSpeed', 'Gust', 'AirTemperature', 'SeaTemperature', 'RelativeHumidity', 'WaveHeight', 'WavePeriod']\n",
    "\n",
    "with open('../data/raw_data.csv', 'r') as f1, open('../data/interim_data.csv', 'w') as f2:\n",
    "    reader = DictReader(f1, fieldnames=original_column_names)\n",
    "    writer = DictWriter(f2, fieldnames=new_column_names, lineterminator='\\n')\n",
    "\n",
    "    next(reader)\n",
    "    next(reader)\n",
    "\n",
    "    writer.writeheader()\n",
    "\n",
    "    for line in tqdm(reader):\n",
    "        if any(line[column_name] == 'NaN' for column_name in new_column_names):\n",
    "            continue\n",
    "        writer.writerow({column_name: line[column_name] for column_name in new_column_names})\n"
   ],
   "id": "fc7dcb1475ef388d",
   "outputs": [
    {
     "name": "stderr",
     "output_type": "stream",
     "text": [
      "613392it [00:03, 183941.44it/s]\n"
     ]
    }
   ],
   "execution_count": 3
  },
  {
   "metadata": {
    "ExecuteTime": {
     "end_time": "2025-09-13T17:36:38.185069Z",
     "start_time": "2025-09-13T17:36:38.004584Z"
    }
   },
   "cell_type": "code",
   "source": [
    "df = pd.read_csv('../data/interim_data.csv')\n",
    "df.shape"
   ],
   "id": "a11ec7e8daab22c2",
   "outputs": [
    {
     "data": {
      "text/plain": [
       "(385474, 9)"
      ]
     },
     "execution_count": 16,
     "metadata": {},
     "output_type": "execute_result"
    }
   ],
   "execution_count": 16
  },
  {
   "metadata": {
    "ExecuteTime": {
     "end_time": "2025-09-13T17:39:21.143228Z",
     "start_time": "2025-09-13T17:39:19.692147Z"
    }
   },
   "cell_type": "code",
   "source": [
    "# Use the interquartile range to remove the outliers in data.\n",
    "for column_name in new_column_names:\n",
    "    Q1 = df[column_name].quantile(0.25)\n",
    "    Q3 = df[column_name].quantile(0.75)\n",
    "    IQR = Q3 - Q1\n",
    "    lower_whisker = Q1 - 1.5*IQR\n",
    "    upper_whisker = Q3 + 1.5*IQR\n",
    "    df = df[(df[column_name] >= lower_whisker) & (df[column_name] <= upper_whisker)]\n",
    "\n",
    "\n",
    "df.to_csv('../processed_data.csv')\n",
    "df.describe()"
   ],
   "id": "effb0299530afe7e",
   "outputs": [
    {
     "data": {
      "text/plain": [
       "       AtmospherePressure  WindDirection      WindSpeed           Gust  \\\n",
       "count       353442.000000  353442.000000  353442.000000  353442.000000   \n",
       "mean          1015.024020     204.206851      14.360989      20.231081   \n",
       "std             11.077417      90.471302       6.189358       8.243699   \n",
       "min            984.534000       0.000000       0.000000       0.000000   \n",
       "25%           1007.861000     150.000000      10.000000      14.000000   \n",
       "50%           1015.800000     214.000000      14.000000      20.000000   \n",
       "75%           1022.800000     270.000000      19.000000      25.000000   \n",
       "max           1045.400000     360.000000      32.333000      43.000000   \n",
       "\n",
       "       AirTemperature  SeaTemperature  RelativeHumidity     WaveHeight  \\\n",
       "count   353442.000000   353442.000000     353442.000000  353442.000000   \n",
       "mean        11.744330       12.521505         82.673260       2.043567   \n",
       "std          2.880462        2.339600          9.536276       1.117457   \n",
       "min          2.964000        5.900000         55.000000       0.100000   \n",
       "25%          9.697000       10.700000         76.000000       1.200000   \n",
       "50%         11.800000       12.500000         83.594000       1.800000   \n",
       "75%         14.141000       14.438250         90.000000       2.700000   \n",
       "max         20.600000       19.200000        100.000000       5.195000   \n",
       "\n",
       "          WavePeriod  \n",
       "count  353442.000000  \n",
       "mean        5.911595  \n",
       "std         1.519769  \n",
       "min         2.000000  \n",
       "25%         5.000000  \n",
       "50%         6.000000  \n",
       "75%         7.000000  \n",
       "max        10.000000  "
      ],
      "text/html": [
       "<div>\n",
       "<style scoped>\n",
       "    .dataframe tbody tr th:only-of-type {\n",
       "        vertical-align: middle;\n",
       "    }\n",
       "\n",
       "    .dataframe tbody tr th {\n",
       "        vertical-align: top;\n",
       "    }\n",
       "\n",
       "    .dataframe thead th {\n",
       "        text-align: right;\n",
       "    }\n",
       "</style>\n",
       "<table border=\"1\" class=\"dataframe\">\n",
       "  <thead>\n",
       "    <tr style=\"text-align: right;\">\n",
       "      <th></th>\n",
       "      <th>AtmospherePressure</th>\n",
       "      <th>WindDirection</th>\n",
       "      <th>WindSpeed</th>\n",
       "      <th>Gust</th>\n",
       "      <th>AirTemperature</th>\n",
       "      <th>SeaTemperature</th>\n",
       "      <th>RelativeHumidity</th>\n",
       "      <th>WaveHeight</th>\n",
       "      <th>WavePeriod</th>\n",
       "    </tr>\n",
       "  </thead>\n",
       "  <tbody>\n",
       "    <tr>\n",
       "      <th>count</th>\n",
       "      <td>353442.000000</td>\n",
       "      <td>353442.000000</td>\n",
       "      <td>353442.000000</td>\n",
       "      <td>353442.000000</td>\n",
       "      <td>353442.000000</td>\n",
       "      <td>353442.000000</td>\n",
       "      <td>353442.000000</td>\n",
       "      <td>353442.000000</td>\n",
       "      <td>353442.000000</td>\n",
       "    </tr>\n",
       "    <tr>\n",
       "      <th>mean</th>\n",
       "      <td>1015.024020</td>\n",
       "      <td>204.206851</td>\n",
       "      <td>14.360989</td>\n",
       "      <td>20.231081</td>\n",
       "      <td>11.744330</td>\n",
       "      <td>12.521505</td>\n",
       "      <td>82.673260</td>\n",
       "      <td>2.043567</td>\n",
       "      <td>5.911595</td>\n",
       "    </tr>\n",
       "    <tr>\n",
       "      <th>std</th>\n",
       "      <td>11.077417</td>\n",
       "      <td>90.471302</td>\n",
       "      <td>6.189358</td>\n",
       "      <td>8.243699</td>\n",
       "      <td>2.880462</td>\n",
       "      <td>2.339600</td>\n",
       "      <td>9.536276</td>\n",
       "      <td>1.117457</td>\n",
       "      <td>1.519769</td>\n",
       "    </tr>\n",
       "    <tr>\n",
       "      <th>min</th>\n",
       "      <td>984.534000</td>\n",
       "      <td>0.000000</td>\n",
       "      <td>0.000000</td>\n",
       "      <td>0.000000</td>\n",
       "      <td>2.964000</td>\n",
       "      <td>5.900000</td>\n",
       "      <td>55.000000</td>\n",
       "      <td>0.100000</td>\n",
       "      <td>2.000000</td>\n",
       "    </tr>\n",
       "    <tr>\n",
       "      <th>25%</th>\n",
       "      <td>1007.861000</td>\n",
       "      <td>150.000000</td>\n",
       "      <td>10.000000</td>\n",
       "      <td>14.000000</td>\n",
       "      <td>9.697000</td>\n",
       "      <td>10.700000</td>\n",
       "      <td>76.000000</td>\n",
       "      <td>1.200000</td>\n",
       "      <td>5.000000</td>\n",
       "    </tr>\n",
       "    <tr>\n",
       "      <th>50%</th>\n",
       "      <td>1015.800000</td>\n",
       "      <td>214.000000</td>\n",
       "      <td>14.000000</td>\n",
       "      <td>20.000000</td>\n",
       "      <td>11.800000</td>\n",
       "      <td>12.500000</td>\n",
       "      <td>83.594000</td>\n",
       "      <td>1.800000</td>\n",
       "      <td>6.000000</td>\n",
       "    </tr>\n",
       "    <tr>\n",
       "      <th>75%</th>\n",
       "      <td>1022.800000</td>\n",
       "      <td>270.000000</td>\n",
       "      <td>19.000000</td>\n",
       "      <td>25.000000</td>\n",
       "      <td>14.141000</td>\n",
       "      <td>14.438250</td>\n",
       "      <td>90.000000</td>\n",
       "      <td>2.700000</td>\n",
       "      <td>7.000000</td>\n",
       "    </tr>\n",
       "    <tr>\n",
       "      <th>max</th>\n",
       "      <td>1045.400000</td>\n",
       "      <td>360.000000</td>\n",
       "      <td>32.333000</td>\n",
       "      <td>43.000000</td>\n",
       "      <td>20.600000</td>\n",
       "      <td>19.200000</td>\n",
       "      <td>100.000000</td>\n",
       "      <td>5.195000</td>\n",
       "      <td>10.000000</td>\n",
       "    </tr>\n",
       "  </tbody>\n",
       "</table>\n",
       "</div>"
      ]
     },
     "execution_count": 18,
     "metadata": {},
     "output_type": "execute_result"
    }
   ],
   "execution_count": 18
  }
 ],
 "metadata": {
  "kernelspec": {
   "display_name": "Python 3",
   "language": "python",
   "name": "python3"
  },
  "language_info": {
   "codemirror_mode": {
    "name": "ipython",
    "version": 2
   },
   "file_extension": ".py",
   "mimetype": "text/x-python",
   "name": "python",
   "nbconvert_exporter": "python",
   "pygments_lexer": "ipython2",
   "version": "2.7.6"
  }
 },
 "nbformat": 4,
 "nbformat_minor": 5
}
