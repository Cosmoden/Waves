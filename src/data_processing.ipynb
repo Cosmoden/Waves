{
 "cells": [
  {
   "metadata": {
    "ExecuteTime": {
     "end_time": "2025-09-17T12:26:56.987552Z",
     "start_time": "2025-09-17T12:26:56.984267Z"
    }
   },
   "cell_type": "code",
   "source": [
    "# imports\n",
    "from csv import DictReader, DictWriter\n",
    "from tqdm import tqdm\n",
    "import pandas as pd\n",
    "import numpy as np"
   ],
   "id": "d0052743fe1215e8",
   "outputs": [],
   "execution_count": 16
  },
  {
   "metadata": {
    "ExecuteTime": {
     "end_time": "2025-09-17T12:26:58.048925Z",
     "start_time": "2025-09-17T12:26:58.046366Z"
    }
   },
   "cell_type": "code",
   "source": [
    "original_column_names = ['station_id', 'longitude', 'latitude', 'time', 'AtmospherePressure', 'WindDirection', 'WindSpeed', 'Gust', 'WaveHeight', 'WavePeriod', 'MeanWaveDirection', 'Hmax', 'AirTemperature', 'DewPoint', 'SeaTemperature', 'RelativeHumidity']\n",
    "\n",
    "new_column_names = ['AtmospherePressure', 'WindDirection', 'WindSpeed', 'Gust', 'AirTemperature', 'RelativeHumidity', 'WaveHeight']"
   ],
   "id": "fc7dcb1475ef388d",
   "outputs": [],
   "execution_count": 17
  },
  {
   "metadata": {
    "ExecuteTime": {
     "end_time": "2025-09-17T12:27:01.150121Z",
     "start_time": "2025-09-17T12:26:58.984446Z"
    }
   },
   "cell_type": "code",
   "source": [
    "with open('../data/raw_data.csv', 'r') as f1, open('../data/interim_data.csv', 'w') as f2:\n",
    "    reader = DictReader(f1, fieldnames=original_column_names)\n",
    "    writer = DictWriter(f2, fieldnames=new_column_names, lineterminator='\\n')\n",
    "\n",
    "    next(reader)\n",
    "    next(reader)\n",
    "\n",
    "    writer.writeheader()\n",
    "\n",
    "    for line in tqdm(reader):\n",
    "        if any(line[column_name] == 'NaN' for column_name in new_column_names):\n",
    "            continue\n",
    "        writer.writerow({column_name: line[column_name] for column_name in new_column_names})"
   ],
   "id": "6d47c23101f83436",
   "outputs": [
    {
     "name": "stderr",
     "output_type": "stream",
     "text": [
      "613392it [00:02, 284366.26it/s]\n"
     ]
    }
   ],
   "execution_count": 18
  },
  {
   "metadata": {
    "ExecuteTime": {
     "end_time": "2025-09-17T12:27:02.900821Z",
     "start_time": "2025-09-17T12:27:02.704578Z"
    }
   },
   "cell_type": "code",
   "source": [
    "df = pd.read_csv('../data/interim_data.csv')\n",
    "df.describe()"
   ],
   "id": "a11ec7e8daab22c2",
   "outputs": [
    {
     "data": {
      "text/plain": [
       "       AtmospherePressure  WindDirection      WindSpeed           Gust  \\\n",
       "count       403845.000000  403845.000000  403845.000000  403845.000000   \n",
       "mean          1013.774914     206.758608      15.104633      21.405105   \n",
       "std             12.234193      89.428016       6.875784       9.522440   \n",
       "min            909.900000       0.000000       0.000000       0.000000   \n",
       "25%           1006.400000     150.000000      10.000000      14.658000   \n",
       "50%           1015.000000     220.000000      15.000000      20.000000   \n",
       "75%           1022.290000     271.000000      19.781000      27.000000   \n",
       "max           1046.400000     360.000000      76.506000     200.000000   \n",
       "\n",
       "       AirTemperature  RelativeHumidity     WaveHeight  \n",
       "count    403845.00000     403845.000000  403845.000000  \n",
       "mean         11.61408         82.416231       2.289677  \n",
       "std           2.87607          9.714247       1.523549  \n",
       "min           0.26400          0.391000       0.078000  \n",
       "25%           9.50000         75.391000       1.200000  \n",
       "50%          11.60000         83.000000       1.953000  \n",
       "75%          14.00000         90.000000       3.000000  \n",
       "max          26.17200        100.000000      14.100000  "
      ],
      "text/html": [
       "<div>\n",
       "<style scoped>\n",
       "    .dataframe tbody tr th:only-of-type {\n",
       "        vertical-align: middle;\n",
       "    }\n",
       "\n",
       "    .dataframe tbody tr th {\n",
       "        vertical-align: top;\n",
       "    }\n",
       "\n",
       "    .dataframe thead th {\n",
       "        text-align: right;\n",
       "    }\n",
       "</style>\n",
       "<table border=\"1\" class=\"dataframe\">\n",
       "  <thead>\n",
       "    <tr style=\"text-align: right;\">\n",
       "      <th></th>\n",
       "      <th>AtmospherePressure</th>\n",
       "      <th>WindDirection</th>\n",
       "      <th>WindSpeed</th>\n",
       "      <th>Gust</th>\n",
       "      <th>AirTemperature</th>\n",
       "      <th>RelativeHumidity</th>\n",
       "      <th>WaveHeight</th>\n",
       "    </tr>\n",
       "  </thead>\n",
       "  <tbody>\n",
       "    <tr>\n",
       "      <th>count</th>\n",
       "      <td>403845.000000</td>\n",
       "      <td>403845.000000</td>\n",
       "      <td>403845.000000</td>\n",
       "      <td>403845.000000</td>\n",
       "      <td>403845.00000</td>\n",
       "      <td>403845.000000</td>\n",
       "      <td>403845.000000</td>\n",
       "    </tr>\n",
       "    <tr>\n",
       "      <th>mean</th>\n",
       "      <td>1013.774914</td>\n",
       "      <td>206.758608</td>\n",
       "      <td>15.104633</td>\n",
       "      <td>21.405105</td>\n",
       "      <td>11.61408</td>\n",
       "      <td>82.416231</td>\n",
       "      <td>2.289677</td>\n",
       "    </tr>\n",
       "    <tr>\n",
       "      <th>std</th>\n",
       "      <td>12.234193</td>\n",
       "      <td>89.428016</td>\n",
       "      <td>6.875784</td>\n",
       "      <td>9.522440</td>\n",
       "      <td>2.87607</td>\n",
       "      <td>9.714247</td>\n",
       "      <td>1.523549</td>\n",
       "    </tr>\n",
       "    <tr>\n",
       "      <th>min</th>\n",
       "      <td>909.900000</td>\n",
       "      <td>0.000000</td>\n",
       "      <td>0.000000</td>\n",
       "      <td>0.000000</td>\n",
       "      <td>0.26400</td>\n",
       "      <td>0.391000</td>\n",
       "      <td>0.078000</td>\n",
       "    </tr>\n",
       "    <tr>\n",
       "      <th>25%</th>\n",
       "      <td>1006.400000</td>\n",
       "      <td>150.000000</td>\n",
       "      <td>10.000000</td>\n",
       "      <td>14.658000</td>\n",
       "      <td>9.50000</td>\n",
       "      <td>75.391000</td>\n",
       "      <td>1.200000</td>\n",
       "    </tr>\n",
       "    <tr>\n",
       "      <th>50%</th>\n",
       "      <td>1015.000000</td>\n",
       "      <td>220.000000</td>\n",
       "      <td>15.000000</td>\n",
       "      <td>20.000000</td>\n",
       "      <td>11.60000</td>\n",
       "      <td>83.000000</td>\n",
       "      <td>1.953000</td>\n",
       "    </tr>\n",
       "    <tr>\n",
       "      <th>75%</th>\n",
       "      <td>1022.290000</td>\n",
       "      <td>271.000000</td>\n",
       "      <td>19.781000</td>\n",
       "      <td>27.000000</td>\n",
       "      <td>14.00000</td>\n",
       "      <td>90.000000</td>\n",
       "      <td>3.000000</td>\n",
       "    </tr>\n",
       "    <tr>\n",
       "      <th>max</th>\n",
       "      <td>1046.400000</td>\n",
       "      <td>360.000000</td>\n",
       "      <td>76.506000</td>\n",
       "      <td>200.000000</td>\n",
       "      <td>26.17200</td>\n",
       "      <td>100.000000</td>\n",
       "      <td>14.100000</td>\n",
       "    </tr>\n",
       "  </tbody>\n",
       "</table>\n",
       "</div>"
      ]
     },
     "execution_count": 19,
     "metadata": {},
     "output_type": "execute_result"
    }
   ],
   "execution_count": 19
  },
  {
   "metadata": {
    "ExecuteTime": {
     "end_time": "2025-09-17T12:27:10.890024Z",
     "start_time": "2025-09-17T12:27:10.724821Z"
    }
   },
   "cell_type": "code",
   "source": [
    "# Use the interquartile range to remove the outliers in data.\n",
    "for column_name in new_column_names:\n",
    "    Q1 = df[column_name].quantile(0.25)\n",
    "    Q3 = df[column_name].quantile(0.75)\n",
    "    IQR = Q3 - Q1\n",
    "    lower_whisker = Q1 - 1.5*IQR\n",
    "    upper_whisker = Q3 + 1.5*IQR\n",
    "    df = df[(df[column_name] >= lower_whisker) & (df[column_name] <= upper_whisker)]\n",
    "\n",
    "df.describe()"
   ],
   "id": "effb0299530afe7e",
   "outputs": [
    {
     "data": {
      "text/plain": [
       "       AtmospherePressure  WindDirection      WindSpeed           Gust  \\\n",
       "count       378551.000000  378551.000000  378551.000000  378551.000000   \n",
       "mean          1014.768286     204.638287      14.465392      20.374661   \n",
       "std             11.285860      90.320138       6.284241       8.417713   \n",
       "min            982.593000       0.000000       0.000000       0.000000   \n",
       "25%           1007.600000     150.000000      10.000000      14.000000   \n",
       "50%           1015.600000     216.000000      14.000000      20.000000   \n",
       "75%           1022.620000     270.000000      19.000000      25.189000   \n",
       "max           1045.800000     360.000000      33.016000      46.251000   \n",
       "\n",
       "       AirTemperature  RelativeHumidity     WaveHeight  \n",
       "count   378551.000000     378551.000000  378551.000000  \n",
       "mean        11.724571         82.731325       2.057696  \n",
       "std          2.874487          9.571322       1.164179  \n",
       "min          2.896000         53.516000       0.078000  \n",
       "25%          9.600000         76.000000       1.200000  \n",
       "50%         11.800000         83.594000       1.800000  \n",
       "75%         14.100000         90.234000       2.734000  \n",
       "max         20.771000        100.000000       5.430000  "
      ],
      "text/html": [
       "<div>\n",
       "<style scoped>\n",
       "    .dataframe tbody tr th:only-of-type {\n",
       "        vertical-align: middle;\n",
       "    }\n",
       "\n",
       "    .dataframe tbody tr th {\n",
       "        vertical-align: top;\n",
       "    }\n",
       "\n",
       "    .dataframe thead th {\n",
       "        text-align: right;\n",
       "    }\n",
       "</style>\n",
       "<table border=\"1\" class=\"dataframe\">\n",
       "  <thead>\n",
       "    <tr style=\"text-align: right;\">\n",
       "      <th></th>\n",
       "      <th>AtmospherePressure</th>\n",
       "      <th>WindDirection</th>\n",
       "      <th>WindSpeed</th>\n",
       "      <th>Gust</th>\n",
       "      <th>AirTemperature</th>\n",
       "      <th>RelativeHumidity</th>\n",
       "      <th>WaveHeight</th>\n",
       "    </tr>\n",
       "  </thead>\n",
       "  <tbody>\n",
       "    <tr>\n",
       "      <th>count</th>\n",
       "      <td>378551.000000</td>\n",
       "      <td>378551.000000</td>\n",
       "      <td>378551.000000</td>\n",
       "      <td>378551.000000</td>\n",
       "      <td>378551.000000</td>\n",
       "      <td>378551.000000</td>\n",
       "      <td>378551.000000</td>\n",
       "    </tr>\n",
       "    <tr>\n",
       "      <th>mean</th>\n",
       "      <td>1014.768286</td>\n",
       "      <td>204.638287</td>\n",
       "      <td>14.465392</td>\n",
       "      <td>20.374661</td>\n",
       "      <td>11.724571</td>\n",
       "      <td>82.731325</td>\n",
       "      <td>2.057696</td>\n",
       "    </tr>\n",
       "    <tr>\n",
       "      <th>std</th>\n",
       "      <td>11.285860</td>\n",
       "      <td>90.320138</td>\n",
       "      <td>6.284241</td>\n",
       "      <td>8.417713</td>\n",
       "      <td>2.874487</td>\n",
       "      <td>9.571322</td>\n",
       "      <td>1.164179</td>\n",
       "    </tr>\n",
       "    <tr>\n",
       "      <th>min</th>\n",
       "      <td>982.593000</td>\n",
       "      <td>0.000000</td>\n",
       "      <td>0.000000</td>\n",
       "      <td>0.000000</td>\n",
       "      <td>2.896000</td>\n",
       "      <td>53.516000</td>\n",
       "      <td>0.078000</td>\n",
       "    </tr>\n",
       "    <tr>\n",
       "      <th>25%</th>\n",
       "      <td>1007.600000</td>\n",
       "      <td>150.000000</td>\n",
       "      <td>10.000000</td>\n",
       "      <td>14.000000</td>\n",
       "      <td>9.600000</td>\n",
       "      <td>76.000000</td>\n",
       "      <td>1.200000</td>\n",
       "    </tr>\n",
       "    <tr>\n",
       "      <th>50%</th>\n",
       "      <td>1015.600000</td>\n",
       "      <td>216.000000</td>\n",
       "      <td>14.000000</td>\n",
       "      <td>20.000000</td>\n",
       "      <td>11.800000</td>\n",
       "      <td>83.594000</td>\n",
       "      <td>1.800000</td>\n",
       "    </tr>\n",
       "    <tr>\n",
       "      <th>75%</th>\n",
       "      <td>1022.620000</td>\n",
       "      <td>270.000000</td>\n",
       "      <td>19.000000</td>\n",
       "      <td>25.189000</td>\n",
       "      <td>14.100000</td>\n",
       "      <td>90.234000</td>\n",
       "      <td>2.734000</td>\n",
       "    </tr>\n",
       "    <tr>\n",
       "      <th>max</th>\n",
       "      <td>1045.800000</td>\n",
       "      <td>360.000000</td>\n",
       "      <td>33.016000</td>\n",
       "      <td>46.251000</td>\n",
       "      <td>20.771000</td>\n",
       "      <td>100.000000</td>\n",
       "      <td>5.430000</td>\n",
       "    </tr>\n",
       "  </tbody>\n",
       "</table>\n",
       "</div>"
      ]
     },
     "execution_count": 20,
     "metadata": {},
     "output_type": "execute_result"
    }
   ],
   "execution_count": 20
  },
  {
   "metadata": {
    "ExecuteTime": {
     "end_time": "2025-09-17T12:27:17.951311Z",
     "start_time": "2025-09-17T12:27:17.919133Z"
    }
   },
   "cell_type": "code",
   "source": [
    "# Feature engineering\n",
    "azimuth_rad = np.deg2rad(df['WindDirection'])\n",
    "df['WindDirectionSin'] = np.sin(azimuth_rad)\n",
    "df['WindDirectionCos'] = np.cos(azimuth_rad)\n",
    "df = df.drop(columns=['WindDirection'])\n",
    "\n",
    "df = df[['AtmospherePressure', 'WindSpeed', 'Gust', 'RelativeHumidity', 'WindDirectionSin', 'WindDirectionCos', 'AirTemperature', 'WaveHeight']]"
   ],
   "id": "32e3ac7167a488f2",
   "outputs": [],
   "execution_count": 21
  },
  {
   "metadata": {
    "ExecuteTime": {
     "end_time": "2025-09-17T12:27:20.139260Z",
     "start_time": "2025-09-17T12:27:18.894205Z"
    }
   },
   "cell_type": "code",
   "source": "df.to_csv('../data/processed_data.csv', index=False)",
   "id": "45d3b39ace10a057",
   "outputs": [],
   "execution_count": 22
  },
  {
   "metadata": {
    "ExecuteTime": {
     "end_time": "2025-09-17T12:26:48.973479Z",
     "start_time": "2025-09-17T12:26:48.972276Z"
    }
   },
   "cell_type": "code",
   "source": "",
   "id": "c85d2e4c2404d52f",
   "outputs": [],
   "execution_count": null
  }
 ],
 "metadata": {
  "kernelspec": {
   "display_name": "Python 3",
   "language": "python",
   "name": "python3"
  },
  "language_info": {
   "codemirror_mode": {
    "name": "ipython",
    "version": 2
   },
   "file_extension": ".py",
   "mimetype": "text/x-python",
   "name": "python",
   "nbconvert_exporter": "python",
   "pygments_lexer": "ipython2",
   "version": "2.7.6"
  }
 },
 "nbformat": 4,
 "nbformat_minor": 5
}
