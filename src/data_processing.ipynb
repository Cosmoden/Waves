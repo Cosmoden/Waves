{
 "cells": [
  {
   "metadata": {
    "ExecuteTime": {
     "end_time": "2025-09-14T11:43:09.589289Z",
     "start_time": "2025-09-14T11:43:09.572762Z"
    }
   },
   "cell_type": "code",
   "source": [
    "# imports\n",
    "from csv import DictReader, DictWriter\n",
    "from tqdm import tqdm\n",
    "import pandas as pd\n",
    "import numpy as np"
   ],
   "id": "d0052743fe1215e8",
   "outputs": [],
   "execution_count": 1
  },
  {
   "metadata": {
    "ExecuteTime": {
     "end_time": "2025-09-14T11:44:22.095012Z",
     "start_time": "2025-09-14T11:44:22.090457Z"
    }
   },
   "cell_type": "code",
   "source": [
    "original_column_names = ['station_id', 'longitude', 'latitude', 'time', 'AtmospherePressure', 'WindDirection', 'WindSpeed', 'Gust', 'WaveHeight', 'WavePeriod', 'MeanWaveDirection', 'Hmax', 'AirTemperature', 'DewPoint', 'SeaTemperature', 'RelativeHumidity']\n",
    "\n",
    "new_column_names = ['AtmospherePressure', 'WindDirection', 'WindSpeed', 'Gust', 'AirTemperature', 'SeaTemperature', 'RelativeHumidity', 'WaveHeight', 'WavePeriod']"
   ],
   "id": "fc7dcb1475ef388d",
   "outputs": [],
   "execution_count": 4
  },
  {
   "metadata": {},
   "cell_type": "code",
   "outputs": [],
   "execution_count": null,
   "source": [
    "with open('../data/raw_data.csv', 'r') as f1, open('../data/interim_data.csv', 'w') as f2:\n",
    "    reader = DictReader(f1, fieldnames=original_column_names)\n",
    "    writer = DictWriter(f2, fieldnames=new_column_names, lineterminator='\\n')\n",
    "\n",
    "    next(reader)\n",
    "    next(reader)\n",
    "\n",
    "    writer.writeheader()\n",
    "\n",
    "    for line in tqdm(reader):\n",
    "        if any(line[column_name] == 'NaN' for column_name in new_column_names):\n",
    "            continue\n",
    "        writer.writerow({column_name: line[column_name] for column_name in new_column_names})"
   ],
   "id": "6d47c23101f83436"
  },
  {
   "metadata": {
    "ExecuteTime": {
     "end_time": "2025-09-14T12:07:20.057082Z",
     "start_time": "2025-09-14T12:07:19.891447Z"
    }
   },
   "cell_type": "code",
   "source": [
    "df = pd.read_csv('../data/interim_data.csv')\n",
    "df.shape"
   ],
   "id": "a11ec7e8daab22c2",
   "outputs": [
    {
     "data": {
      "text/plain": [
       "(385474, 9)"
      ]
     },
     "execution_count": 13,
     "metadata": {},
     "output_type": "execute_result"
    }
   ],
   "execution_count": 13
  },
  {
   "metadata": {
    "ExecuteTime": {
     "end_time": "2025-09-14T12:07:20.817558Z",
     "start_time": "2025-09-14T12:07:20.686318Z"
    }
   },
   "cell_type": "code",
   "source": [
    "# Use the interquartile range to remove the outliers in data.\n",
    "for column_name in new_column_names:\n",
    "    Q1 = df[column_name].quantile(0.25)\n",
    "    Q3 = df[column_name].quantile(0.75)\n",
    "    IQR = Q3 - Q1\n",
    "    lower_whisker = Q1 - 1.5*IQR\n",
    "    upper_whisker = Q3 + 1.5*IQR\n",
    "    df = df[(df[column_name] >= lower_whisker) & (df[column_name] <= upper_whisker)]"
   ],
   "id": "effb0299530afe7e",
   "outputs": [],
   "execution_count": 14
  },
  {
   "metadata": {
    "ExecuteTime": {
     "end_time": "2025-09-14T12:07:23.250824Z",
     "start_time": "2025-09-14T12:07:21.299875Z"
    }
   },
   "cell_type": "code",
   "source": [
    "# normalization\n",
    "wave_height_mean = np.mean(df['WaveHeight'])\n",
    "wave_height_std  = np.std(df['WaveHeight'])\n",
    "\n",
    "wave_period_mean = np.mean(df['WavePeriod'])\n",
    "wave_period_std  = np.std(df['WavePeriod'])\n",
    "\n",
    "df['WaveHeight'] = (df['WaveHeight'] - wave_height_mean) / wave_height_std\n",
    "df['WavePeriod'] = (df['WavePeriod'] - wave_period_mean) / wave_period_std\n",
    "\n",
    "azimuth_rad = np.deg2rad(df['WindDirection'])\n",
    "df['WindDirection_sin'] = np.sin(azimuth_rad)\n",
    "df['WindDirection_cos'] = np.cos(azimuth_rad)\n",
    "df = df.drop(columns=['WindDirection'])\n",
    "\n",
    "df['TempDiff'] = df['AirTemperature'] - df['SeaTemperature']\n",
    "df = df.drop(columns=['AirTemperature', 'SeaTemperature'])\n",
    "\n",
    "df = df[['AtmospherePressure', 'WindSpeed', 'Gust', 'RelativeHumidity', 'WindDirection_sin', 'WindDirection_cos', 'TempDiff', 'WaveHeight', 'WavePeriod']]\n",
    "\n",
    "df.to_csv('../data/processed_data.csv', index=False)"
   ],
   "id": "e1a0f66e4de8fba7",
   "outputs": [],
   "execution_count": 15
  },
  {
   "metadata": {},
   "cell_type": "code",
   "outputs": [],
   "execution_count": null,
   "source": "",
   "id": "45d3b39ace10a057"
  }
 ],
 "metadata": {
  "kernelspec": {
   "display_name": "Python 3",
   "language": "python",
   "name": "python3"
  },
  "language_info": {
   "codemirror_mode": {
    "name": "ipython",
    "version": 2
   },
   "file_extension": ".py",
   "mimetype": "text/x-python",
   "name": "python",
   "nbconvert_exporter": "python",
   "pygments_lexer": "ipython2",
   "version": "2.7.6"
  }
 },
 "nbformat": 4,
 "nbformat_minor": 5
}
